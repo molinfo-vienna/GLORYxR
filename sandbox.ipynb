{
 "cells": [
  {
   "cell_type": "code",
   "execution_count": null,
   "id": "227f6ec5",
   "metadata": {},
   "outputs": [],
   "source": [
    "import process_reference_data\n",
    "import process_test_data"
   ]
  },
  {
   "cell_type": "code",
   "execution_count": null,
   "id": "a8ba7965",
   "metadata": {},
   "outputs": [],
   "source": [
    "reference_df, reference_metabolites_df = process_reference_data.main()"
   ]
  },
  {
   "cell_type": "code",
   "execution_count": null,
   "id": "dc1b1798",
   "metadata": {},
   "outputs": [],
   "source": [
    "test_df, test_metabolites_df = process_test_data.main()"
   ]
  }
 ],
 "metadata": {
  "kernelspec": {
   "display_name": ".venv",
   "language": "python",
   "name": "python3"
  },
  "language_info": {
   "codemirror_mode": {
    "name": "ipython",
    "version": 3
   },
   "file_extension": ".py",
   "mimetype": "text/x-python",
   "name": "python",
   "nbconvert_exporter": "python",
   "pygments_lexer": "ipython3",
   "version": "3.13.5"
  }
 },
 "nbformat": 4,
 "nbformat_minor": 5
}
