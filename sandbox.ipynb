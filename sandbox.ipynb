{
 "cells": [
  {
   "cell_type": "code",
   "execution_count": null,
   "id": "227f6ec5",
   "metadata": {},
   "outputs": [],
   "source": [
    "import process_reference_data\n",
    "import process_test_data"
   ]
  },
  {
   "cell_type": "code",
   "execution_count": null,
   "id": "a8ba7965",
   "metadata": {},
   "outputs": [],
   "source": [
    "reference_df, reference_metabolites_df = process_reference_data.main()"
   ]
  },
  {
   "cell_type": "code",
   "execution_count": null,
   "id": "dc1b1798",
   "metadata": {},
   "outputs": [],
   "source": [
    "test_df, test_metabolites_df = process_test_data.main()"
   ]
  },
  {
   "cell_type": "code",
   "execution_count": null,
   "id": "ff2ef5c4",
   "metadata": {},
   "outputs": [],
   "source": [
    "import pandas as pd\n",
    "from rdkit.Chem import MolFromSmiles\n",
    "from rdkit.Chem import PandasTools\n",
    "\n",
    "valid_smiles = (\"fluconazole\", \"OC(Cn1cncn1)(Cn1cncn1)c1ccc(F)cc1F\")\n",
    "smiles_with_salt = (\"acetic_acid\", \"[Na+].[O-]C(=O)C\")\n",
    "smiles_with_boron = (\"bortezomib\", \"O=C(N[C@H](C(=O)N[C@H](B(O)O)CC(C)C)Cc1ccccc1)c2nccnc2\")\n",
    "smiles_with_multiple_fragments = (\"fluconazole_acetaldehyde\", \"OC(Cn1cncn1)(Cn1cncn1)c1ccc(F)cc1F.CCO\")\n",
    "\n",
    "mols = []\n",
    "names = []\n",
    "for name, smiles in (valid_smiles, smiles_with_salt, smiles_with_boron, smiles_with_multiple_fragments):\n",
    "    mol = MolFromSmiles(smiles)\n",
    "    mols.append(mol)\n",
    "    names.append(name)\n",
    "\n",
    "df = pd.DataFrame({\"name\": names, \"ROMol\": mols})\n",
    "\n",
    "PandasTools.WriteSDF(df, \"sandbox.sdf\", idName=\"name\", molColName=\"ROMol\")"
   ]
  }
 ],
 "metadata": {
  "kernelspec": {
   "display_name": ".venv",
   "language": "python",
   "name": "python3"
  },
  "language_info": {
   "codemirror_mode": {
    "name": "ipython",
    "version": 3
   },
   "file_extension": ".py",
   "mimetype": "text/x-python",
   "name": "python",
   "nbconvert_exporter": "python",
   "pygments_lexer": "ipython3",
   "version": "3.13.5"
  }
 },
 "nbformat": 4,
 "nbformat_minor": 5
}
