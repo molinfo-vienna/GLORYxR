{
 "cells": [
  {
   "cell_type": "markdown",
   "id": "b25df5a1",
   "metadata": {},
   "source": [
    "# Evaluate results from the predict_metabolites.py pipeline"
   ]
  },
  {
   "cell_type": "code",
   "execution_count": 40,
   "id": "30430a15",
   "metadata": {},
   "outputs": [],
   "source": [
    "import pandas as pd\n",
    "from ipywidgets import interact, IntSlider\n",
    "from rdkit.Chem import Draw\n",
    "from rdkit.Chem import MolFromSmiles"
   ]
  },
  {
   "cell_type": "code",
   "execution_count": null,
   "id": "646f1988",
   "metadata": {},
   "outputs": [],
   "source": [
    "from pandas.core.frame import DataFrame\n",
    "\n",
    "\n",
    "loose_df = pd.read_csv(\"GLORYx_data/test/results_loose_priority_corrected/metabolite_predictions.csv\")\n",
    "strict_df: DataFrame = pd.read_csv(\"GLORYx_data/test/results_strict/metabolite_predictions.csv\")"
   ]
  },
  {
   "cell_type": "code",
   "execution_count": 42,
   "id": "c0935fd6",
   "metadata": {},
   "outputs": [
    {
     "data": {
      "text/plain": [
       "(1752, 1752)"
      ]
     },
     "execution_count": 42,
     "metadata": {},
     "output_type": "execute_result"
    }
   ],
   "source": [
    "len(loose_df), len(strict_df)"
   ]
  },
  {
   "cell_type": "code",
   "execution_count": 43,
   "id": "1e82764a",
   "metadata": {},
   "outputs": [
    {
     "data": {
      "application/vnd.jupyter.widget-view+json": {
       "model_id": "bb1d87caad8a4bb7bb697eef31a77635",
       "version_major": 2,
       "version_minor": 0
      },
      "text/plain": [
       "interactive(children=(IntSlider(value=0, description='i', max=1752), Output()), _dom_classes=('widget-interact…"
      ]
     },
     "metadata": {},
     "output_type": "display_data"
    }
   ],
   "source": [
    "@interact(i = IntSlider(min=0, max=len(loose_df), step=1))\n",
    "def f(i):\n",
    "    row = loose_df.iloc[i]\n",
    "    parent_name = row.parent_name\n",
    "    parent_smiles = row.parent_smiles\n",
    "    metabolite_smiles = row.metabolite_smiles\n",
    "    reaction = row.reaction\n",
    "    rule_subset = row.rule_subset\n",
    "    som = row.som\n",
    "    score = row.score\n",
    "\n",
    "    parent_mol = MolFromSmiles(parent_smiles)\n",
    "    metabolite_mol = MolFromSmiles(metabolite_smiles)\n",
    "\n",
    "    print(parent_name)\n",
    "    print(reaction)\n",
    "    print(rule_subset)\n",
    "    print(score)\n",
    "\n",
    "    drawing = Draw.MolsToGridImage(\n",
    "        mols=[parent_mol, metabolite_mol],\n",
    "        subImgSize=(400, 400),\n",
    "    )\n",
    "\n",
    "    display(drawing)"
   ]
  },
  {
   "cell_type": "code",
   "execution_count": 44,
   "id": "8b046d02",
   "metadata": {},
   "outputs": [
    {
     "data": {
      "application/vnd.jupyter.widget-view+json": {
       "model_id": "1ddbb721c2f241b7a689c6d55f3c3161",
       "version_major": 2,
       "version_minor": 0
      },
      "text/plain": [
       "interactive(children=(IntSlider(value=0, description='i', max=1752), Output()), _dom_classes=('widget-interact…"
      ]
     },
     "metadata": {},
     "output_type": "display_data"
    }
   ],
   "source": [
    "@interact(i = IntSlider(min=0, max=len(strict_df), step=1))\n",
    "def f(i):\n",
    "    row = strict_df.iloc[i]\n",
    "    parent_name = row.parent_name\n",
    "    parent_smiles = row.parent_smiles\n",
    "    metabolite_smiles = row.metabolite_smiles\n",
    "    reaction = row.reaction\n",
    "    rule_subset = row.rule_subset\n",
    "    som = row.som\n",
    "    score = row.score\n",
    "\n",
    "    parent_mol = MolFromSmiles(parent_smiles)\n",
    "    metabolite_mol = MolFromSmiles(metabolite_smiles)\n",
    "\n",
    "    print(parent_name)\n",
    "    print(reaction)\n",
    "    print(rule_subset)\n",
    "    print(score)\n",
    "\n",
    "    drawing = Draw.MolsToGridImage(\n",
    "        mols=[parent_mol, metabolite_mol],\n",
    "        subImgSize=(400, 400),\n",
    "    )\n",
    "\n",
    "    display(drawing)"
   ]
  },
  {
   "cell_type": "code",
   "execution_count": 45,
   "id": "1e5d6cf2",
   "metadata": {},
   "outputs": [],
   "source": [
    "true_df = pd.read_csv(\"GLORYx_data/test/gloryx_test_dataset_metabolites_exploded.csv\")"
   ]
  },
  {
   "cell_type": "code",
   "execution_count": 46,
   "id": "735d8476",
   "metadata": {},
   "outputs": [
    {
     "data": {
      "text/plain": [
       "136"
      ]
     },
     "execution_count": 46,
     "metadata": {},
     "output_type": "execute_result"
    }
   ],
   "source": [
    "len(true_df)"
   ]
  },
  {
   "cell_type": "code",
   "execution_count": 47,
   "id": "cd578b40",
   "metadata": {},
   "outputs": [
    {
     "data": {
      "text/plain": [
       "['parent_name',\n",
       " 'parent_smiles',\n",
       " 'metabolite_name',\n",
       " 'metabolite_smiles',\n",
       " 'generation',\n",
       " 'doi']"
      ]
     },
     "execution_count": 47,
     "metadata": {},
     "output_type": "execute_result"
    }
   ],
   "source": [
    "list(true_df)"
   ]
  },
  {
   "cell_type": "code",
   "execution_count": 48,
   "id": "27fad607",
   "metadata": {},
   "outputs": [
    {
     "data": {
      "application/vnd.jupyter.widget-view+json": {
       "model_id": "22fceb6b9c61420499f8c01bacf85d45",
       "version_major": 2,
       "version_minor": 0
      },
      "text/plain": [
       "interactive(children=(IntSlider(value=0, description='i', max=136), Output()), _dom_classes=('widget-interact'…"
      ]
     },
     "metadata": {},
     "output_type": "display_data"
    }
   ],
   "source": [
    "@interact(i = IntSlider(min=0, max=len(true_df), step=1))\n",
    "def f(i):\n",
    "    row = true_df.iloc[i]\n",
    "    parent_name = row.parent_name\n",
    "    parent_smiles = row.parent_smiles\n",
    "    metabolite_smiles = row.metabolite_smiles\n",
    "\n",
    "    parent_mol = MolFromSmiles(parent_smiles)\n",
    "    metabolite_mol = MolFromSmiles(metabolite_smiles)\n",
    "\n",
    "    print(parent_name)\n",
    "    \n",
    "    drawing = Draw.MolsToGridImage(\n",
    "        mols=[parent_mol, metabolite_mol],\n",
    "        subImgSize=(400, 400),\n",
    "    )\n",
    "\n",
    "    display(drawing)"
   ]
  },
  {
   "cell_type": "code",
   "execution_count": 49,
   "id": "5bfb5918",
   "metadata": {},
   "outputs": [],
   "source": [
    "def add_binary_labels(predicted_df, true_df):\n",
    "    \"\"\"\n",
    "    Add a binary 'label' column to predicted_df indicating whether each prediction\n",
    "    exists in the true_df based on parent_smiles and metabolite_smiles matching.\n",
    "    And do the same for the true_df (add a 'label' column to the dataframe indicating\n",
    "    whether each true metabolite exists in the predicted_df based on parent_smiles and \n",
    "    metabolite_smiles matching).\n",
    "    \n",
    "    Args:\n",
    "        predicted_df: DataFrame with predictions (must have 'parent_smiles' and 'metabolite_smiles' columns)\n",
    "        true_df: DataFrame with true metabolites (must have 'parent_smiles' and 'metabolite_smiles' columns)\n",
    "    \n",
    "    Returns:\n",
    "        predicted_df with added 'label' column (1 for true positive, 0 for false positive)\n",
    "        true_df with added 'label' column (1 for true positive, 0 for false positive)\n",
    "    \"\"\"\n",
    "    # Create a set of tuples for fast lookup\n",
    "    true_pairs = set(zip(true_df['parent_smiles'], true_df['metabolite_smiles']))\n",
    "    predicted_pairs = set(zip(predicted_df['parent_smiles'], predicted_df['metabolite_smiles']))\n",
    "    \n",
    "    # Add binary label column to predicted_df\n",
    "    predicted_df['label'] = predicted_df.apply(\n",
    "        lambda row: 1 if (row['parent_smiles'], row['metabolite_smiles']) in true_pairs else 0, \n",
    "        axis=1\n",
    "    )\n",
    "\n",
    "    # Add binary label column to true_df\n",
    "    true_df['label'] = true_df.apply(\n",
    "        lambda row: 1 if (row['parent_smiles'], row['metabolite_smiles']) in predicted_pairs else 0, \n",
    "        axis=1\n",
    "    )\n",
    "\n",
    "    # The code below is to compute labels in case we do not consider parent/metabolite pairs\n",
    "    # but only the metabolites (this is suboptimal but I suspect this is what they did in the paper)\n",
    "    # It only improves the metrics minimally, though.\n",
    "\n",
    "    # # Add binary label column to predicted_df\n",
    "    # predicted_df['label'] = predicted_df.apply(\n",
    "    #     lambda row: 1 if row['metabolite_smiles'] in true_df[\"metabolite_smiles\"].to_list() else 0, \n",
    "    #     axis=1\n",
    "    # )\n",
    "\n",
    "    # # Add binary label column to true_df\n",
    "    # true_df['label'] = true_df.apply(\n",
    "    #     lambda row: 1 if row['metabolite_smiles'] in predicted_df[\"metabolite_smiles\"].to_list() else 0, \n",
    "    #     axis=1\n",
    "    # )\n",
    "    \n",
    "    return predicted_df, true_df\n",
    "\n",
    "strict_df, true_df_strict_labels = add_binary_labels(predicted_df=strict_df, true_df=true_df)\n",
    "loose_df, true_df_loose_labels = add_binary_labels(predicted_df=loose_df, true_df=true_df)"
   ]
  },
  {
   "cell_type": "code",
   "execution_count": 50,
   "id": "67865841",
   "metadata": {},
   "outputs": [],
   "source": [
    "from sklearn.metrics import roc_auc_score\n",
    "\n",
    "def compute_metrics(predicted_df, true_df):\n",
    "\n",
    "    roc_auc = roc_auc_score(y_true=predicted_df.label, y_score=predicted_df.score)\n",
    "\n",
    "    true_positives = len(predicted_df[predicted_df.label == 1])\n",
    "    false_positives = len(predicted_df[predicted_df.label == 0])\n",
    "    false_negatives = len(true_df[true_df.label == 0])\n",
    "\n",
    "    print(f\"Number of predicted metabolites: {len(predicted_df)}\")\n",
    "    print(f\"Number of true positives: {true_positives}\")\n",
    "    print(f\"Number of false positives: {false_positives}\")\n",
    "    print(f\"Number of false negatives: {false_negatives}\")\n",
    "\n",
    "    precision = true_positives / (true_positives + false_positives)\n",
    "    recall = true_positives / (true_positives + false_negatives)\n",
    "    f1_score = 2 * (precision * recall) / (precision + recall)\n",
    "\n",
    "    print(f\"ROC AUC: {roc_auc}\")\n",
    "    print(f\"Precision: {precision}\")\n",
    "    print(f\"Recall: {recall}\")\n",
    "    print(f\"F1 score: {f1_score}\")"
   ]
  },
  {
   "cell_type": "code",
   "execution_count": 51,
   "id": "c0e635de",
   "metadata": {},
   "outputs": [
    {
     "name": "stdout",
     "output_type": "stream",
     "text": [
      "Number of predicted metabolites: 1752\n",
      "Number of true positives: 110\n",
      "Number of false positives: 1642\n",
      "Number of false negatives: 36\n",
      "ROC AUC: 0.7335317240615656\n",
      "Precision: 0.06278538812785388\n",
      "Recall: 0.7534246575342466\n",
      "F1 score: 0.11591148577449947\n"
     ]
    }
   ],
   "source": [
    "compute_metrics(predicted_df=loose_df, true_df=true_df_loose_labels)"
   ]
  },
  {
   "cell_type": "markdown",
   "id": "b1525dbd",
   "metadata": {},
   "source": [
    "Results loose SOMs:\n",
    "\n",
    "- Number of predicted metabolites: 1752\n",
    "- Number of true positives: 110\n",
    "- Number of false positives: 1642\n",
    "- Number of false negatives: 36\n",
    "- ROC AUC: 0.7335317240615656\n",
    "- Precision: 0.06278538812785388\n",
    "- Recall: 0.7534246575342466\n",
    "- F1 score: 0.11591148577449947"
   ]
  },
  {
   "cell_type": "markdown",
   "id": "16af56e9",
   "metadata": {},
   "source": [
    "Results loose SOMs with priority:\n",
    "\n",
    "- Number of predicted metabolites: 1752\n",
    "- Number of true positives: 110\n",
    "- Number of false positives: 1642\n",
    "- Number of false negatives: 36\n",
    "- ROC AUC: 0.7714649540471707\n",
    "- Precision: 0.06278538812785388\n",
    "- Recall: 0.7534246575342466\n",
    "- F1 score: 0.11591148577449947"
   ]
  },
  {
   "cell_type": "markdown",
   "id": "82a8ec49",
   "metadata": {},
   "source": [
    "Results loose SOMs with corrected priority:"
   ]
  },
  {
   "cell_type": "code",
   "execution_count": null,
   "id": "f649408a",
   "metadata": {},
   "outputs": [],
   "source": []
  },
  {
   "cell_type": "code",
   "execution_count": 52,
   "id": "48e9fd3e",
   "metadata": {},
   "outputs": [
    {
     "name": "stdout",
     "output_type": "stream",
     "text": [
      "Number of predicted metabolites: 1752\n",
      "Number of true positives: 110\n",
      "Number of false positives: 1642\n",
      "Number of false negatives: 36\n",
      "ROC AUC: 0.6753211161554645\n",
      "Precision: 0.06278538812785388\n",
      "Recall: 0.7534246575342466\n",
      "F1 score: 0.11591148577449947\n"
     ]
    }
   ],
   "source": [
    "compute_metrics(predicted_df=strict_df, true_df=true_df_strict_labels)"
   ]
  }
 ],
 "metadata": {
  "kernelspec": {
   "display_name": ".venv",
   "language": "python",
   "name": "python3"
  },
  "language_info": {
   "codemirror_mode": {
    "name": "ipython",
    "version": 3
   },
   "file_extension": ".py",
   "mimetype": "text/x-python",
   "name": "python",
   "nbconvert_exporter": "python",
   "pygments_lexer": "ipython3",
   "version": "3.13.5"
  }
 },
 "nbformat": 4,
 "nbformat_minor": 5
}
