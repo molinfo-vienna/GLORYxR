{
 "cells": [
  {
   "cell_type": "code",
   "execution_count": 18,
   "id": "72e58dc0-7b60-4e29-b84e-1c4356abc5f7",
   "metadata": {},
   "outputs": [],
   "source": [
    "import itertools\n",
    "import subprocess\n",
    "from pathlib import Path\n",
    "\n",
    "from tqdm.auto import tqdm"
   ]
  },
  {
   "cell_type": "code",
   "execution_count": 19,
   "id": "42f0ceab-3ee4-46fb-879c-a1dc1a5b602f",
   "metadata": {},
   "outputs": [],
   "source": [
    "model_paths = {\n",
    "    \"UGT rules (phase 2)\": Path(\n",
    "        \"MetaQSAR_data/single_substrate/GLORYxR_specials/glucuronodation_and_glycosilations.sdf\"\n",
    "    ),\n",
    "    \"GST rules (phase 2)\": Path(\n",
    "        \"MetaQSAR_data/single_substrate/GLORYxR_specials/GSH_and_RSH_conjugations.sdf\"\n",
    "    ),\n",
    "    \"NAT rules (phase 2)\": Path(\n",
    "        \"MetaQSAR_data/single_substrate/GLORYxR_specials/acetylations_and_acylations.sdf\"\n",
    "    ),\n",
    "    \"SULT rules (phase 2)\": Path(\n",
    "        \"MetaQSAR_data/single_substrate/GLORYxR_specials/sulfonations.sdf\"\n",
    "    ),\n",
    "    \"MT rules (phase 2)\": Path(\n",
    "        \"MetaQSAR_data/single_substrate/GLORYxR_specials/methylations.sdf\"\n",
    "    ),\n",
    "    \"Phase 1 SyGMa rules\": Path(\"MetaQSAR_data/merged/p1/all.sdf\"),\n",
    "    \"CYP rules from GLORY (phase 1)\": Path(\"MetaQSAR_data/merged/p1/all.sdf\"),\n",
    "    \"Other phase 2 rules\": Path(\"MetaQSAR_data/merged/p2/all.sdf\"),\n",
    "}"
   ]
  },
  {
   "cell_type": "code",
   "execution_count": 20,
   "id": "56ddffa6-355d-405d-8c1e-14d39e4421e5",
   "metadata": {},
   "outputs": [
    {
     "data": {
      "application/vnd.jupyter.widget-view+json": {
       "model_id": "f8cbfb6fda0a418882069164149aae08",
       "version_major": 2,
       "version_minor": 0
      },
      "text/plain": [
       "  0%|          | 0/8 [00:00<?, ?it/s]"
      ]
     },
     "metadata": {},
     "output_type": "display_data"
    }
   ],
   "source": [
    "for name, path in tqdm(model_paths.items()):\n",
    "    subprocess.check_output(\n",
    "        [\n",
    "            \"uv\",\n",
    "            \"run\",\n",
    "            \"fame3r-train\",\n",
    "            \"-i\",\n",
    "            path,\n",
    "            \"-o\",\n",
    "            \"models\",\n",
    "            \"-r\",\n",
    "            \"5\",\n",
    "        ]\n",
    "    )\n",
    "\n",
    "    Path(\"models/model.joblib\").rename(f\"models/{name}.joblib\")"
   ]
  }
 ],
 "metadata": {
  "kernelspec": {
   "display_name": "Python 3 (ipykernel)",
   "language": "python",
   "name": "python3"
  },
  "language_info": {
   "codemirror_mode": {
    "name": "ipython",
    "version": 3
   },
   "file_extension": ".py",
   "mimetype": "text/x-python",
   "name": "python",
   "nbconvert_exporter": "python",
   "pygments_lexer": "ipython3",
   "version": "3.13.3"
  }
 },
 "nbformat": 4,
 "nbformat_minor": 5
}
