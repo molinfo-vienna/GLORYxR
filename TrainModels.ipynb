{
 "cells": [
  {
   "cell_type": "code",
   "execution_count": 1,
   "id": "72e58dc0-7b60-4e29-b84e-1c4356abc5f7",
   "metadata": {},
   "outputs": [],
   "source": [
    "import subprocess\n",
    "from pathlib import Path\n",
    "\n",
    "from tqdm.auto import tqdm"
   ]
  },
  {
   "cell_type": "code",
   "execution_count": 2,
   "id": "79dfb3f1-edb1-4329-8dea-18e9ff80fe90",
   "metadata": {},
   "outputs": [],
   "source": [
    "OUTPUT_PATH = Path(\"models\")"
   ]
  },
  {
   "cell_type": "code",
   "execution_count": 3,
   "id": "42f0ceab-3ee4-46fb-879c-a1dc1a5b602f",
   "metadata": {},
   "outputs": [],
   "source": [
    "model_paths = {\n",
    "    \"Phase 1 SyGMa rules\": Path(\"MetaQSAR_data/p1.sdf\"),\n",
    "    \"CYP rules from GLORY (phase 1)\": Path(\"MetaQSAR_data/p1.sdf\"),\n",
    "    \"Other phase 2 rules\": Path(\"MetaQSAR_data/p2.sdf\"),\n",
    "    \"UGT rules (phase 2)\": Path(\n",
    "        \"MetaQSAR_data/GLORYxR_specials/UGT.sdf\"\n",
    "    ),\n",
    "    \"GST rules (phase 2)\": Path(\n",
    "        \"MetaQSAR_data/GLORYxR_specials/GST.sdf\"\n",
    "    ),\n",
    "    \"NAT rules (phase 2)\": Path(\n",
    "        \"MetaQSAR_data/GLORYxR_specials/NAT.sdf\"\n",
    "    ),\n",
    "    \"SULT rules (phase 2)\": Path(\n",
    "        \"MetaQSAR_data/GLORYxR_specials/SULT.sdf\"\n",
    "    ),\n",
    "    \"MT rules (phase 2)\": Path(\n",
    "        \"MetaQSAR_data/GLORYxR_specials/MT.sdf\"\n",
    "    ),\n",
    "}"
   ]
  },
  {
   "cell_type": "code",
   "execution_count": 4,
   "id": "56ddffa6-355d-405d-8c1e-14d39e4421e5",
   "metadata": {},
   "outputs": [
    {
     "data": {
      "application/vnd.jupyter.widget-view+json": {
       "model_id": "f201fc46973848ce96c0514d7b820d91",
       "version_major": 2,
       "version_minor": 0
      },
      "text/plain": [
       "  0%|          | 0/8 [00:00<?, ?it/s]"
      ]
     },
     "metadata": {},
     "output_type": "display_data"
    }
   ],
   "source": [
    "for name, path in tqdm(model_paths.items()):\n",
    "    subprocess.check_output(\n",
    "        [\n",
    "            \"uv\",\n",
    "            \"run\",\n",
    "            \"fame3r-train\",\n",
    "            \"-i\",\n",
    "            path,\n",
    "            \"-o\",\n",
    "            OUTPUT_PATH,\n",
    "            \"-r\",\n",
    "            \"5\",\n",
    "        ]\n",
    "    )\n",
    "\n",
    "    (OUTPUT_PATH / \"model.joblib\").rename(OUTPUT_PATH / f\"{name}.joblib\")"
   ]
  }
 ],
 "metadata": {
  "kernelspec": {
   "display_name": ".venv",
   "language": "python",
   "name": "python3"
  },
  "language_info": {
   "codemirror_mode": {
    "name": "ipython",
    "version": 3
   },
   "file_extension": ".py",
   "mimetype": "text/x-python",
   "name": "python",
   "nbconvert_exporter": "python",
   "pygments_lexer": "ipython3",
   "version": "3.13.5"
  }
 },
 "nbformat": 4,
 "nbformat_minor": 5
}
